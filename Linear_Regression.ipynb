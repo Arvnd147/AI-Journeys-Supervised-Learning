{
  "cells": [
    {
      "cell_type": "markdown",
      "metadata": {
        "id": "q0WBUyPS4W6A"
      },
      "source": [
        "\n",
        "##Linear Regression Implementation using Python\n"
      ]
    },
    {
      "cell_type": "markdown",
      "metadata": {
        "id": "y0v2ApwHC4u7"
      },
      "source": [
        "Importing the libraries"
      ]
    },
    {
      "cell_type": "code",
      "execution_count": null,
      "metadata": {
        "id": "INgPZGUg5SfE"
      },
      "outputs": [],
      "source": [
        "import numpy as nm\n",
        "import matplotlib.pyplot as mtp\n",
        "import pandas as pd"
      ]
    },
    {
      "cell_type": "markdown",
      "metadata": {
        "id": "FZYPPzVoDFkD"
      },
      "source": [
        "Reading the Data"
      ]
    },
    {
      "cell_type": "code",
      "execution_count": null,
      "metadata": {
        "id": "1K51Mft95eQh"
      },
      "outputs": [],
      "source": [
        "data = pd.read_csv(\"headbrain.csv\")"
      ]
    },
    {
      "cell_type": "markdown",
      "metadata": {
        "id": "78tVRVgjDLCR"
      },
      "source": [
        "Preview of the uploaded csv file"
      ]
    },
    {
      "cell_type": "code",
      "execution_count": null,
      "metadata": {
        "id": "el4oGg4368FK"
      },
      "outputs": [],
      "source": [
        "print(data.shape)\n",
        "data.head()"
      ]
    },
    {
      "cell_type": "markdown",
      "metadata": {
        "id": "VB1BENcTDV67"
      },
      "source": [
        "Storing the values in head size and brain weight in variables X and Y respectively"
      ]
    },
    {
      "cell_type": "code",
      "execution_count": null,
      "metadata": {
        "id": "1xEOVtFt8E84"
      },
      "outputs": [],
      "source": [
        "#Calculating X and Y\n",
        "X = data['Head Size(cm^3)'].values\n",
        "Y = data['Brain Weight(grams)'].values"
      ]
    },
    {
      "cell_type": "markdown",
      "metadata": {
        "id": "n0MunCN6Du4n"
      },
      "source": [
        "\n",
        "Manually implementing Linear Regression using statistical formulae"
      ]
    },
    {
      "cell_type": "code",
      "execution_count": null,
      "metadata": {
        "id": "A3UnBIJw9FJB"
      },
      "outputs": [],
      "source": [
        "# Mean of X and Y\n",
        "mean_x = nm.mean(X)\n",
        "mean_y = nm.mean(Y)\n",
        "\n",
        "#Total number of values\n",
        "m = len(X)\n",
        "\n",
        "#using the formulae to calculate b1 and b0\n",
        "numer = 0\n",
        "denom = 0\n",
        "for i in range(m):\n",
        "    numer += (X[i] - mean_x) * (Y[i] - mean_y)\n",
        "    denom += (X[i] - mean_x) ** 2\n",
        "b1 = numer / denom\n",
        "b0 = mean_y - (b1 * mean_x)\n",
        "\n",
        "#printing the regression coefficients\n",
        "print(b1,b0)"
      ]
    },
    {
      "cell_type": "markdown",
      "metadata": {
        "id": "JS8u6K8DD8v6"
      },
      "source": [
        "Graphical Representation of the regression line and scatter points"
      ]
    },
    {
      "cell_type": "code",
      "execution_count": null,
      "metadata": {
        "id": "3F8NZSvy_Qpn"
      },
      "outputs": [],
      "source": [
        "#plotting the values and Regression line\n",
        "max_x = nm.max(X) + 100\n",
        "min_x = nm.min(X) - 100\n",
        "\n",
        "# Calculating line values x and y\n",
        "x = nm.linspace(min_x, max_x, 1000)\n",
        "y = b0 + b1*x\n",
        "\n",
        "#plotting line\n",
        "mtp.plot(x, y, color='#58b970', label='Regression Line')\n",
        "#plotting scatter points\n",
        "mtp.scatter(X, Y, color='#ef5423', label='Scatter Plot')\n",
        "\n",
        "mtp.xlabel('Head Size in cm3')\n",
        "mtp.ylabel('Brain Weight in grams')\n",
        "mtp.legend()\n",
        "mtp.show()\n"
      ]
    },
    {
      "cell_type": "markdown",
      "metadata": {
        "id": "X1bVM2oTEJW7"
      },
      "source": [
        "Manually finding the coefficient of determination using statistical formulae"
      ]
    },
    {
      "cell_type": "code",
      "execution_count": 43,
      "metadata": {
        "colab": {
          "base_uri": "https://localhost:8080/"
        },
        "id": "4jPqjMg1A-XG",
        "outputId": "f41a1eaf-4e46-4143-c187-8e752821af7d"
      },
      "outputs": [
        {
          "name": "stdout",
          "output_type": "stream",
          "text": [
            "0.6393117199570001\n"
          ]
        }
      ],
      "source": [
        "#To find coefficient of determination r^2\n",
        "\n",
        "numer = 0\n",
        "denom = 0\n",
        "for i in range(m):\n",
        "  y_pred = b0 + b1*X[i]\n",
        "  numer += (y_pred - mean_y) ** 2\n",
        "  denom += (Y[i] - mean_y) ** 2\n",
        "r2 = (numer / denom)\n",
        "print(r2[0])"
      ]
    },
    {
      "cell_type": "markdown",
      "metadata": {
        "id": "XNdgcOCeEW3a"
      },
      "source": [
        "Implementation of Simple Linear Regression using scikit learn library in python"
      ]
    },
    {
      "cell_type": "code",
      "execution_count": 42,
      "metadata": {
        "colab": {
          "base_uri": "https://localhost:8080/"
        },
        "id": "F30uSogJBnie",
        "outputId": "c2ce07cd-b6a2-4fc7-bc72-70de301b01e7"
      },
      "outputs": [
        {
          "name": "stdout",
          "output_type": "stream",
          "text": [
            "0.639311719957\n"
          ]
        }
      ],
      "source": [
        "from sklearn.linear_model import LinearRegression\n",
        "from sklearn.metrics import mean_squared_error\n",
        "\n",
        "# Cannot use Rank 1 matrix in scikit learn\n",
        "X = X.reshape((m,1))\n",
        "# Creating model\n",
        "reg = LinearRegression()\n",
        "# Fitting Training data\n",
        "reg = reg.fit(X, Y)\n",
        "# Y prediction\n",
        "Y_pred = reg.predict(X)\n",
        "# Calculating r2 score\n",
        "r2_score = reg.score(X, Y)\n",
        "\n",
        "print(r2_score)"
      ]
    }
  ],
  "metadata": {
    "colab": {
      "name": "Linear Regression.ipynb",
      "provenance": []
    },
    "kernelspec": {
      "display_name": "Python 3",
      "name": "python3"
    },
    "language_info": {
      "name": "python"
    }
  },
  "nbformat": 4,
  "nbformat_minor": 0
}
