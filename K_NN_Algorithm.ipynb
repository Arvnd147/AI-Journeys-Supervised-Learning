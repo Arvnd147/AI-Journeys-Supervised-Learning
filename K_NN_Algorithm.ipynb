{
  "nbformat": 4,
  "nbformat_minor": 0,
  "metadata": {
    "colab": {
      "name": "K-NN Algorithm.ipynb",
      "provenance": []
    },
    "kernelspec": {
      "name": "python3",
      "display_name": "Python 3"
    },
    "language_info": {
      "name": "python"
    }
  },
  "cells": [
    {
      "cell_type": "markdown",
      "source": [
        "## K - Nearest Neighbours Algorithm Implentation using Python"
      ],
      "metadata": {
        "id": "p93xIZx-NQ7v"
      }
    },
    {
      "cell_type": "markdown",
      "source": [
        "We are going to predict whether a person will have diabetes or not"
      ],
      "metadata": {
        "id": "sz3x6AwXPmya"
      }
    },
    {
      "cell_type": "markdown",
      "source": [
        "Importing the necessary libraries/modules"
      ],
      "metadata": {
        "id": "0z3Cw6xaY9on"
      }
    },
    {
      "cell_type": "code",
      "source": [
        "import pandas as pd\n",
        "import numpy as np\n",
        "\n",
        "from sklearn.model_selection import train_test_split\n",
        "from sklearn.preprocessing import StandardScaler\n",
        "from sklearn.neighbors import KNeighborsClassifier\n",
        "from sklearn.metrics import confusion_matrix\n",
        "from sklearn.metrics import f1_score\n",
        "from sklearn.metrics import accuracy_score"
      ],
      "metadata": {
        "id": "5ZxXRquDYGKT"
      },
      "execution_count": null,
      "outputs": []
    },
    {
      "cell_type": "markdown",
      "source": [
        "Loading the dataset"
      ],
      "metadata": {
        "id": "BBE08heKZIb4"
      }
    },
    {
      "cell_type": "code",
      "source": [
        "dataset = pd.read_csv('diabetes.csv')\n",
        "print(len(dataset))\n",
        "dataset.head()"
      ],
      "metadata": {
        "id": "Bahc2r13ZK8H"
      },
      "execution_count": null,
      "outputs": []
    },
    {
      "cell_type": "markdown",
      "source": [
        "Replacing zeros with the means of the respective columns"
      ],
      "metadata": {
        "id": "wLwr1PYyZ9Ap"
      }
    },
    {
      "cell_type": "code",
      "source": [
        "zero_not_accepted = ['Glucose','BloodPressure','SkinThickness','BMI','Insulin']\n",
        "\n",
        "for column in zero_not_accepted:\n",
        "  dataset[column] = dataset[column].replace(0,np.NaN)\n",
        "  mean = int(dataset[column].mean(skipna=True))\n",
        "  dataset[column] = dataset[column].replace(np.NaN,mean)"
      ],
      "metadata": {
        "id": "zWAhiUb9aD8I"
      },
      "execution_count": 8,
      "outputs": []
    },
    {
      "cell_type": "markdown",
      "source": [
        "Splitting the dataset into traing and testing datasets"
      ],
      "metadata": {
        "id": "hntIJTuocAor"
      }
    },
    {
      "cell_type": "code",
      "source": [
        "X = dataset.iloc[:,0:8]\n",
        "Y = dataset.iloc[:,8]\n",
        "X_train, X_test, Y_train, Y_test = train_test_split(X, Y, random_state=0, test_size=0.2)"
      ],
      "metadata": {
        "id": "F9GBNMPLcDxR"
      },
      "execution_count": 9,
      "outputs": []
    },
    {
      "cell_type": "markdown",
      "source": [
        "# Feature Scaling : \n",
        "Any algorithm that computes distance or assumes normality, we have to scale our features"
      ],
      "metadata": {
        "id": "VmcoqKHNdXNx"
      }
    },
    {
      "cell_type": "code",
      "source": [
        "sc_X = StandardScaler()\n",
        "X_train = sc_X.fit_transform(X_train)\n",
        "X_test = sc_X.transform(X_test)"
      ],
      "metadata": {
        "id": "lVnWiuO5drrg"
      },
      "execution_count": 10,
      "outputs": []
    },
    {
      "cell_type": "markdown",
      "source": [
        "Finding the best value of k for this model"
      ],
      "metadata": {
        "id": "9LnYgMSofG__"
      }
    },
    {
      "cell_type": "code",
      "source": [
        "import math\n",
        "math.sqrt(len(Y_test))"
      ],
      "metadata": {
        "colab": {
          "base_uri": "https://localhost:8080/"
        },
        "id": "Dy3tSA5LfOiA",
        "outputId": "7c861c3f-944a-4850-940e-216005d8dc9d"
      },
      "execution_count": 14,
      "outputs": [
        {
          "output_type": "execute_result",
          "data": {
            "text/plain": [
              "12.409673645990857"
            ]
          },
          "metadata": {},
          "execution_count": 14
        }
      ]
    },
    {
      "cell_type": "markdown",
      "source": [
        "but 12 is an even number, so we subtract one from it and use k=11"
      ],
      "metadata": {
        "id": "4IeQUScXffr6"
      }
    },
    {
      "cell_type": "markdown",
      "source": [
        "Defining the model : Init K-NN"
      ],
      "metadata": {
        "id": "rtLfv49CeYvg"
      }
    },
    {
      "cell_type": "code",
      "source": [
        "classifier = KNeighborsClassifier(n_neighbors = 11, p=2, metric='euclidean')"
      ],
      "metadata": {
        "id": "Sy7QviiHdniM"
      },
      "execution_count": 11,
      "outputs": []
    },
    {
      "cell_type": "markdown",
      "source": [
        "Fitting the train data into the model"
      ],
      "metadata": {
        "id": "56qjxvlHeu1j"
      }
    },
    {
      "cell_type": "code",
      "source": [
        "classifier.fit(X_train, Y_train)"
      ],
      "metadata": {
        "colab": {
          "base_uri": "https://localhost:8080/"
        },
        "id": "Ez4V2Q0rezSG",
        "outputId": "a9596f66-601f-4991-d860-74b0c587195f"
      },
      "execution_count": 12,
      "outputs": [
        {
          "output_type": "execute_result",
          "data": {
            "text/plain": [
              "KNeighborsClassifier(metric='euclidean', n_neighbors=11)"
            ]
          },
          "metadata": {},
          "execution_count": 12
        }
      ]
    },
    {
      "cell_type": "markdown",
      "source": [
        "Predicting the test set results"
      ],
      "metadata": {
        "id": "ImCNOWukfsC3"
      }
    },
    {
      "cell_type": "code",
      "source": [
        "Y_pred = classifier.predict(X_test)\n",
        "Y_pred"
      ],
      "metadata": {
        "colab": {
          "base_uri": "https://localhost:8080/"
        },
        "id": "-lSRPNiBfuyz",
        "outputId": "2d3f44b7-5e47-42ac-c710-b558ee63e8ad"
      },
      "execution_count": 15,
      "outputs": [
        {
          "output_type": "execute_result",
          "data": {
            "text/plain": [
              "array([1, 0, 0, 1, 0, 0, 1, 1, 0, 0, 1, 1, 0, 0, 0, 0, 1, 0, 0, 0, 1, 0,\n",
              "       0, 0, 0, 0, 0, 1, 0, 0, 1, 0, 0, 1, 0, 1, 0, 0, 0, 1, 0, 0, 0, 1,\n",
              "       1, 0, 0, 0, 0, 0, 1, 0, 1, 1, 0, 0, 0, 1, 0, 1, 1, 0, 0, 1, 1, 1,\n",
              "       1, 0, 0, 0, 0, 0, 0, 1, 1, 0, 0, 1, 0, 0, 0, 0, 0, 0, 0, 0, 0, 0,\n",
              "       1, 0, 0, 0, 0, 0, 1, 0, 0, 1, 1, 1, 0, 0, 0, 0, 1, 1, 0, 1, 0, 1,\n",
              "       0, 0, 1, 1, 1, 1, 0, 0, 0, 1, 0, 0, 0, 0, 0, 0, 0, 0, 0, 0, 0, 0,\n",
              "       0, 0, 0, 1, 0, 0, 0, 0, 0, 1, 0, 0, 1, 0, 0, 0, 0, 0, 0, 0, 0, 0])"
            ]
          },
          "metadata": {},
          "execution_count": 15
        }
      ]
    },
    {
      "cell_type": "markdown",
      "source": [
        "# Evaluating the Model"
      ],
      "metadata": {
        "id": "59k3NYdlf41A"
      }
    },
    {
      "cell_type": "markdown",
      "source": [
        "Confusion matrix"
      ],
      "metadata": {
        "id": "mBS7_iEvg4lz"
      }
    },
    {
      "cell_type": "code",
      "source": [
        "cm = confusion_matrix(Y_test, Y_pred)\n",
        "print(cm)"
      ],
      "metadata": {
        "colab": {
          "base_uri": "https://localhost:8080/"
        },
        "id": "zk-bT8G5f7rv",
        "outputId": "c05ec1b7-d5b6-4821-de45-46ec6b146b18"
      },
      "execution_count": 17,
      "outputs": [
        {
          "output_type": "stream",
          "name": "stdout",
          "text": [
            "[[94 13]\n",
            " [15 32]]\n"
          ]
        }
      ]
    },
    {
      "cell_type": "markdown",
      "source": [
        "f1 score"
      ],
      "metadata": {
        "id": "GL0hdtlDg-pi"
      }
    },
    {
      "cell_type": "code",
      "source": [
        "print(f1_score(Y_test,Y_pred))"
      ],
      "metadata": {
        "colab": {
          "base_uri": "https://localhost:8080/"
        },
        "id": "sNFY4OJghACa",
        "outputId": "2ff640c6-afe2-4175-f435-4d559b69e494"
      },
      "execution_count": 18,
      "outputs": [
        {
          "output_type": "stream",
          "name": "stdout",
          "text": [
            "0.6956521739130436\n"
          ]
        }
      ]
    },
    {
      "cell_type": "markdown",
      "source": [
        "Accuracy"
      ],
      "metadata": {
        "id": "elJL4bMThFUR"
      }
    },
    {
      "cell_type": "code",
      "source": [
        "print(accuracy_score(Y_test,Y_pred))"
      ],
      "metadata": {
        "colab": {
          "base_uri": "https://localhost:8080/"
        },
        "id": "q3aSA_XGhGrq",
        "outputId": "e3e3e460-0dbb-448d-b85d-d6a7cc135a64"
      },
      "execution_count": 19,
      "outputs": [
        {
          "output_type": "stream",
          "name": "stdout",
          "text": [
            "0.8181818181818182\n"
          ]
        }
      ]
    }
  ]
}